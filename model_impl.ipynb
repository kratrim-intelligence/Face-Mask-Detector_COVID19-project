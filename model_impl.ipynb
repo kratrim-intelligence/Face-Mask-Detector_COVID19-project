{
 "cells": [
  {
   "cell_type": "code",
   "execution_count": 1,
   "metadata": {},
   "outputs": [],
   "source": [
    "from tensorflow.keras.applications.mobilenet_v2 import preprocess_input\n",
    "from tensorflow.keras.preprocessing.image import img_to_array\n",
    "from tensorflow.keras.models import load_model\n",
    "import numpy as np\n",
    "import cv2\n",
    "import os"
   ]
  },
  {
   "cell_type": "code",
   "execution_count": 2,
   "metadata": {},
   "outputs": [],
   "source": [
    "prototxtPath = os.path.sep.join([r'__PATH__','deploy.prototxt'])\n",
    "weightsPath = os.path.sep.join([r'__PATH__','res10_300x300_ssd_iter_140000.caffemodel'])"
   ]
  },
  {
   "cell_type": "code",
   "execution_count": 3,
   "metadata": {},
   "outputs": [],
   "source": [
    "net = cv2.dnn.readNet(prototxtPath,weightsPath)"
   ]
  },
  {
   "cell_type": "code",
   "execution_count": 4,
   "metadata": {},
   "outputs": [],
   "source": [
    "model = load_model(r'__PATH TO MODEL__\\mask_detector.model')"
   ]
  },
  {
   "cell_type": "code",
   "execution_count": null,
   "metadata": {},
   "outputs": [],
   "source": []
  },
  {
   "cell_type": "code",
   "execution_count": 5,
   "metadata": {},
   "outputs": [],
   "source": [
    "image = cv2.imread(r'__PATH__\\test images\\example_04.jpg')"
   ]
  },
  {
   "cell_type": "code",
   "execution_count": 6,
   "metadata": {},
   "outputs": [
    {
     "data": {
      "text/plain": [
       "array([[[255, 255, 255],\n",
       "        [255, 255, 255],\n",
       "        [255, 255, 255],\n",
       "        ...,\n",
       "        [255, 255, 255],\n",
       "        [255, 255, 255],\n",
       "        [255, 255, 255]],\n",
       "\n",
       "       [[255, 255, 255],\n",
       "        [255, 255, 255],\n",
       "        [255, 255, 255],\n",
       "        ...,\n",
       "        [255, 255, 255],\n",
       "        [255, 255, 255],\n",
       "        [255, 255, 255]],\n",
       "\n",
       "       [[255, 255, 255],\n",
       "        [255, 255, 255],\n",
       "        [255, 255, 255],\n",
       "        ...,\n",
       "        [255, 255, 255],\n",
       "        [255, 255, 255],\n",
       "        [255, 255, 255]],\n",
       "\n",
       "       ...,\n",
       "\n",
       "       [[229, 220, 211],\n",
       "        [237, 231, 224],\n",
       "        [236, 230, 223],\n",
       "        ...,\n",
       "        [129, 129, 129],\n",
       "        [255, 255, 255],\n",
       "        [255, 255, 255]],\n",
       "\n",
       "       [[233, 225, 218],\n",
       "        [236, 230, 223],\n",
       "        [236, 230, 223],\n",
       "        ...,\n",
       "        [255, 255, 255],\n",
       "        [255, 255, 255],\n",
       "        [255, 255, 255]],\n",
       "\n",
       "       [[236, 230, 223],\n",
       "        [235, 229, 222],\n",
       "        [237, 229, 222],\n",
       "        ...,\n",
       "        [255, 255, 255],\n",
       "        [255, 255, 255],\n",
       "        [254, 254, 254]]], dtype=uint8)"
      ]
     },
     "execution_count": 6,
     "metadata": {},
     "output_type": "execute_result"
    }
   ],
   "source": [
    "image"
   ]
  },
  {
   "cell_type": "code",
   "execution_count": 7,
   "metadata": {},
   "outputs": [],
   "source": [
    "(h,w) = image.shape[:2]"
   ]
  },
  {
   "cell_type": "code",
   "execution_count": 8,
   "metadata": {},
   "outputs": [
    {
     "data": {
      "text/plain": [
       "(320, 400)"
      ]
     },
     "execution_count": 8,
     "metadata": {},
     "output_type": "execute_result"
    }
   ],
   "source": [
    "(h,w)"
   ]
  },
  {
   "cell_type": "code",
   "execution_count": 9,
   "metadata": {},
   "outputs": [],
   "source": [
    "blob = cv2.dnn.blobFromImage(image,1.0,(300,300),(104.0,177.0,123.0))"
   ]
  },
  {
   "cell_type": "code",
   "execution_count": 10,
   "metadata": {},
   "outputs": [
    {
     "data": {
      "text/plain": [
       "array([[[[ 151.,  151.,  151., ...,  151.,  151.,  151.],\n",
       "         [ 151.,  151.,  151., ...,  151.,  151.,  151.],\n",
       "         [ 151.,  151.,  151., ...,  151.,  151.,  151.],\n",
       "         ...,\n",
       "         [ 125.,  132.,  132., ...,  -49.,   91.,  151.],\n",
       "         [ 129.,  132.,  131., ...,  130.,  144.,  151.],\n",
       "         [ 132.,  132.,  134., ...,  151.,  151.,  150.]],\n",
       "\n",
       "        [[  78.,   78.,   78., ...,   78.,   78.,   78.],\n",
       "         [  78.,   78.,   78., ...,   78.,   78.,   78.],\n",
       "         [  78.,   78.,   78., ...,   78.,   78.,   78.],\n",
       "         ...,\n",
       "         [  44.,   53.,   53., ..., -122.,   18.,   78.],\n",
       "         [  48.,   53.,   52., ...,   57.,   71.,   78.],\n",
       "         [  52.,   52.,   52., ...,   78.,   78.,   77.]],\n",
       "\n",
       "        [[ 132.,  132.,  132., ...,  132.,  132.,  132.],\n",
       "         [ 132.,  132.,  132., ...,  132.,  132.,  132.],\n",
       "         [ 132.,  132.,  132., ...,  132.,  132.,  132.],\n",
       "         ...,\n",
       "         [  89.,  101.,  100., ...,  -68.,   72.,  132.],\n",
       "         [  95.,  100.,   99., ...,  111.,  125.,  132.],\n",
       "         [ 100.,   99.,  101., ...,  132.,  132.,  131.]]]], dtype=float32)"
      ]
     },
     "execution_count": 10,
     "metadata": {},
     "output_type": "execute_result"
    }
   ],
   "source": [
    "blob"
   ]
  },
  {
   "cell_type": "code",
   "execution_count": 11,
   "metadata": {},
   "outputs": [
    {
     "data": {
      "text/plain": [
       "(1, 3, 300, 300)"
      ]
     },
     "execution_count": 11,
     "metadata": {},
     "output_type": "execute_result"
    }
   ],
   "source": [
    "blob.shape"
   ]
  },
  {
   "cell_type": "code",
   "execution_count": 12,
   "metadata": {},
   "outputs": [],
   "source": [
    "net.setInput(blob)\n",
    "detections = net.forward()"
   ]
  },
  {
   "cell_type": "code",
   "execution_count": 13,
   "metadata": {},
   "outputs": [
    {
     "data": {
      "text/plain": [
       "array([[[[0.        , 1.        , 0.9990723 , ..., 0.2609468 ,\n",
       "          0.86956596, 0.5144971 ],\n",
       "         [0.        , 1.        , 0.99022526, ..., 0.1156572 ,\n",
       "          0.37667134, 0.371835  ],\n",
       "         [0.        , 1.        , 0.13693598, ..., 0.16242325,\n",
       "          0.3751283 , 0.2838493 ],\n",
       "         ...,\n",
       "         [0.        , 0.        , 0.        , ..., 0.        ,\n",
       "          0.        , 0.        ],\n",
       "         [0.        , 0.        , 0.        , ..., 0.        ,\n",
       "          0.        , 0.        ],\n",
       "         [0.        , 0.        , 0.        , ..., 0.        ,\n",
       "          0.        , 0.        ]]]], dtype=float32)"
      ]
     },
     "execution_count": 13,
     "metadata": {},
     "output_type": "execute_result"
    }
   ],
   "source": [
    "detections"
   ]
  },
  {
   "cell_type": "code",
   "execution_count": 21,
   "metadata": {},
   "outputs": [],
   "source": [
    "for i in range(0,detections.shape[2]):\n",
    "    confidence = detections[0,0,i,2]\n",
    "    \n",
    "    \n",
    "    if confidence > 0.5:\n",
    "        box = detections[0,0,i,3:7] * np.array([w,h,w,h]) # Getting the x,y coordinates for creating the box, element wise multiplication\n",
    "        (startX,startY,endX,endY) = box.astype('int')\n",
    "        \n",
    "        (startX,startY) = (max(0,startX),max(0,startY))\n",
    "        (endX,endY) = (min(w-1,endX), min(h-1,endY))\n",
    "        \n",
    "        face = image[startY:endY, startX:endX]\n",
    "        face = cv2.cvtColor(face,cv2.COLOR_BGR2RGB)\n",
    "        face = cv2.resize(face,(224,224))\n",
    "        face = img_to_array(face)\n",
    "        face = preprocess_input(face)\n",
    "        \n",
    "        face = np.expand_dims(face,axis=0)\n",
    "       \n",
    "        \n",
    "        (mask,withoutMask)=model.predict(face)[0]\n",
    "        \n",
    "        label='Mask' if mask > withoutMask else 'No Mask'\n",
    "        color=(0,255,0) if label=='Mask' else (0,0,255)\n",
    "        \n",
    "        label=\"{}: {:.2f}%\".format(label,max(mask,withoutMask)*100)\n",
    "        \n",
    "        cv2.putText(image,label,(startX,startY-10),cv2.FONT_HERSHEY_SIMPLEX,0.45,color,2)\n",
    "        cv2.rectangle(image,(startX,startY),(endX,endY),color,2)\n",
    "        \n",
    "        \n",
    "        \n",
    "cv2.imshow(\"Result\",image)\n",
    "cv2.waitKey(0)\n",
    "cv2.destroyAllWindows()"
   ]
  },
  {
   "cell_type": "code",
   "execution_count": null,
   "metadata": {},
   "outputs": [],
   "source": []
  }
 ],
 "metadata": {
  "kernelspec": {
   "display_name": "Python 3",
   "language": "python",
   "name": "python3"
  },
  "language_info": {
   "codemirror_mode": {
    "name": "ipython",
    "version": 3
   },
   "file_extension": ".py",
   "mimetype": "text/x-python",
   "name": "python",
   "nbconvert_exporter": "python",
   "pygments_lexer": "ipython3",
   "version": "3.8.3"
  }
 },
 "nbformat": 4,
 "nbformat_minor": 4
}
